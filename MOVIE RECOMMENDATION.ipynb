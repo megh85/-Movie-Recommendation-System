{
 "cells": [
  {
   "cell_type": "code",
   "execution_count": 1,
   "id": "c63b7242-f49b-4878-9f32-9408d1239313",
   "metadata": {},
   "outputs": [
    {
     "name": "stdout",
     "output_type": "stream",
     "text": [
      "Step 1: Loading and Merging Data...\n",
      " -> Data loaded and merged successfully.\n",
      " -> Dataset shape: (4809, 23)\n"
     ]
    }
   ],
   "source": [
    "import pandas as pd\n",
    "import numpy as np\n",
    "import ast # Used to safely evaluate strings containing Python literals\n",
    "\n",
    "print(\"Step 1: Loading and Merging Data...\")\n",
    "\n",
    "try:\n",
    "    # Load the two datasets\n",
    "    credits_df = pd.read_csv(r\"C:\\Users\\Shaan\\Downloads\\archive (3)\\tmdb_5000_credits.csv\")\n",
    "    movies_df = pd.read_csv(r\"C:\\Users\\Shaan\\Downloads\\archive (3)\\tmdb_5000_movies.csv\")\n",
    "\n",
    "    # Merge the two dataframes on the 'title' column\n",
    "    movies_df = movies_df.merge(credits_df, on='title')\n",
    "    print(\" -> Data loaded and merged successfully.\")\n",
    "    print(f\" -> Dataset shape: {movies_df.shape}\")\n",
    "\n",
    "except FileNotFoundError:\n",
    "    print(\"\\nERROR: Make sure 'tmdb_5000_credits.csv' and 'tmdb_5000_movies.csv' are in the same directory.\")\n",
    "    # Stop execution if files are not found\n",
    "    exit()\n"
   ]
  },
  {
   "cell_type": "code",
   "execution_count": 3,
   "id": "329d9b08-27be-457d-a21a-a8e89412b005",
   "metadata": {},
   "outputs": [
    {
     "name": "stdout",
     "output_type": "stream",
     "text": [
      "\n",
      "Step 2: Cleaning and Preprocessing Data...\n",
      " -> Parsed and cleaned feature columns.\n",
      " -> Text data cleaned (lowercase, no spaces).\n"
     ]
    }
   ],
   "source": [
    "print(\"\\nStep 2: Cleaning and Preprocessing Data...\")\n",
    "\n",
    "# Select only the features we need for the recommendation system\n",
    "features = ['movie_id', 'title', 'overview', 'genres', 'keywords', 'cast', 'crew']\n",
    "movies_df = movies_df[features]\n",
    "\n",
    "# Handle missing values - drop rows where 'overview' is missing\n",
    "movies_df.dropna(subset=['overview'], inplace=True)\n",
    "\n",
    "# Define helper functions to parse the stringified JSON data\n",
    "def parse_literal_data(column):\n",
    "    \"\"\"Safely parse a stringified list of dictionaries.\"\"\"\n",
    "    try:\n",
    "        # ast.literal_eval is a safe way to evaluate a string containing a Python literal\n",
    "        return ast.literal_eval(column)\n",
    "    except (ValueError, SyntaxError):\n",
    "        return []\n",
    "\n",
    "def get_names(data):\n",
    "    \"\"\"Extract the 'name' from a list of dictionaries.\"\"\"\n",
    "    if isinstance(data, list):\n",
    "        return [i['name'] for i in data]\n",
    "    return []\n",
    "\n",
    "def get_director(data):\n",
    "    \"\"\"Extract the director's name from the crew list.\"\"\"\n",
    "    if isinstance(data, list):\n",
    "        for member in data:\n",
    "            if member.get('job') == 'Director':\n",
    "                return member['name']\n",
    "    return None\n",
    "\n",
    "# Apply the parsing and extraction functions to the relevant columns\n",
    "for feature in ['genres', 'keywords', 'cast', 'crew']:\n",
    "    movies_df[feature] = movies_df[feature].apply(parse_literal_data)\n",
    "\n",
    "movies_df['genres'] = movies_df['genres'].apply(get_names)\n",
    "movies_df['keywords'] = movies_df['keywords'].apply(get_names)\n",
    "# Get the top 3 cast members\n",
    "movies_df['cast'] = movies_df['cast'].apply(lambda x: get_names(x[:3]))\n",
    "movies_df['director'] = movies_df['crew'].apply(get_director)\n",
    "\n",
    "print(\" -> Parsed and cleaned feature columns.\")\n",
    "\n",
    "# Clean up text data by removing spaces and converting to lowercase\n",
    "def clean_text(data):\n",
    "    if isinstance(data, list):\n",
    "        return [str(i).lower().replace(' ', '') for i in data]\n",
    "    if isinstance(data, str):\n",
    "        return str(data).lower().replace(' ', '')\n",
    "    return ''\n",
    "\n",
    "for feature in ['genres', 'keywords', 'cast', 'director']:\n",
    "    movies_df[feature] = movies_df[feature].apply(clean_text)\n",
    "\n",
    "print(\" -> Text data cleaned (lowercase, no spaces).\")\n"
   ]
  },
  {
   "cell_type": "code",
   "execution_count": 4,
   "id": "f52de012-22df-4bb7-a31a-cd287dc237bb",
   "metadata": {},
   "outputs": [
    {
     "name": "stdout",
     "output_type": "stream",
     "text": [
      "\n",
      "Step 3: Creating the 'soup' feature...\n",
      " -> 'soup' column created successfully.\n",
      " -> Example soup for the first movie:\n",
      " In the 22nd century, a paraplegic Marine is dispatched to the moon Pandora on a unique mission, but becomes torn between following orders and protecting an alien civilization. action adventure fantasy sciencefiction cultureclash future spacewar spacecolony society spacetravel futuristic romance spac ...\n"
     ]
    }
   ],
   "source": [
    "print(\"\\nStep 3: Creating the 'soup' feature...\")\n",
    "\n",
    "# The 'soup' is a single string containing all important keywords for a movie\n",
    "def create_soup(x):\n",
    "    # Ensure all parts are strings before joining\n",
    "    overview = x['overview'].split()\n",
    "    genres = x['genres'] if isinstance(x['genres'], list) else []\n",
    "    keywords = x['keywords'] if isinstance(x['keywords'], list) else []\n",
    "    cast = x['cast'] if isinstance(x['cast'], list) else []\n",
    "    director = [x['director']] if isinstance(x['director'], str) else []\n",
    "    \n",
    "    # Combine all features into a single list and join with spaces\n",
    "    return ' '.join(overview + genres + keywords + cast + director)\n",
    "\n",
    "movies_df['soup'] = movies_df.apply(create_soup, axis=1)\n",
    "\n",
    "print(\" -> 'soup' column created successfully.\")\n",
    "print(\" -> Example soup for the first movie:\\n\", movies_df['soup'].iloc[0][:300], \"...\")\n"
   ]
  },
  {
   "cell_type": "code",
   "execution_count": 7,
   "id": "03cab80e-cd81-4748-9f1e-f345ff74740a",
   "metadata": {},
   "outputs": [
    {
     "name": "stdout",
     "output_type": "stream",
     "text": [
      "\n",
      "Step 4: Vectorizing text and calculating similarity...\n",
      " -> Count matrix shape: (4806, 35327)\n",
      " -> Cosine similarity matrix shape: (4806, 4806)\n"
     ]
    }
   ],
   "source": [
    "from sklearn.feature_extraction.text import CountVectorizer\n",
    "from sklearn.metrics.pairwise import cosine_similarity\n",
    "\n",
    "print(\"\\nStep 4: Vectorizing text and calculating similarity...\")\n",
    "\n",
    "# Initialize the CountVectorizer\n",
    "count = CountVectorizer(stop_words='english')\n",
    "\n",
    "# Create the count matrix\n",
    "count_matrix = count.fit_transform(movies_df['soup'])\n",
    "\n",
    "# Calculate the cosine similarity matrix\n",
    "cosine_sim = cosine_similarity(count_matrix, count_matrix)\n",
    "\n",
    "print(f\" -> Count matrix shape: {count_matrix.shape}\")\n",
    "print(f\" -> Cosine similarity matrix shape: {cosine_sim.shape}\")"
   ]
  },
  {
   "cell_type": "code",
   "execution_count": 9,
   "id": "b563f9c6-b843-41a3-bdec-d7385d129afb",
   "metadata": {},
   "outputs": [
    {
     "name": "stdout",
     "output_type": "stream",
     "text": [
      "\n",
      "--- Recommendation Test ---\n",
      "\n",
      "Recommendations for 'The Dark Knight Rises':\n",
      "65                              The Dark Knight\n",
      "119                               Batman Begins\n",
      "428                              Batman Returns\n",
      "1360                                     Batman\n",
      "1361                                     Batman\n",
      "299                              Batman Forever\n",
      "210                              Batman & Robin\n",
      "9            Batman v Superman: Dawn of Justice\n",
      "2509                                  Slow Burn\n",
      "3859    Batman: The Dark Knight Returns, Part 2\n",
      "Name: title, dtype: object\n",
      "\n",
      "--- Recommendation Test 2 ---\n",
      "\n",
      "Recommendations for 'Avatar':\n",
      "539                      Titan A.E.\n",
      "1214    Aliens vs Predator: Requiem\n",
      "2405                         Aliens\n",
      "582             Battle: Los Angeles\n",
      "507                Independence Day\n",
      "1202                      Predators\n",
      "1916                      Lifeforce\n",
      "260                    Ender's Game\n",
      "1192                 Small Soldiers\n",
      "74                 Edge of Tomorrow\n",
      "Name: title, dtype: object\n",
      "\n",
      "\n",
      "Movie Recommendation System is ready.\n"
     ]
    }
   ],
   "source": [
    "indices = pd.Series(movies_df.index, index=movies_df['title']).drop_duplicates()\n",
    "\n",
    "def get_recommendations(title, cosine_sim=cosine_sim, indices=indices):\n",
    "    \"\"\"\n",
    "    This function takes a movie title and returns the top 10 most similar movies.\n",
    "    \"\"\"\n",
    "    if title not in indices:\n",
    "        return f\"Movie '{title}' not found in the dataset.\"\n",
    "        \n",
    "    # Get the index of the movie that matches the title\n",
    "    idx = indices[title]\n",
    "\n",
    "    # Get the pairwise similarity scores of all movies with that movie\n",
    "    sim_scores = list(enumerate(cosine_sim[idx]))\n",
    "\n",
    "    # Sort the movies based on the similarity scores\n",
    "    sim_scores = sorted(sim_scores, key=lambda x: x[1], reverse=True)\n",
    "\n",
    "    # Get the scores of the 10 most similar movies (ignore the first one, which is itself)\n",
    "    sim_scores = sim_scores[1:11]\n",
    "\n",
    "    # Get the movie indices\n",
    "    movie_indices = [i[0] for i in sim_scores]\n",
    "\n",
    "    # Return the titles of the top 10 most similar movies\n",
    "    return movies_df['title'].iloc[movie_indices]\n",
    "\n",
    "# --- TEST THE RECOMMENDER ---\n",
    "print(\"\\n--- Recommendation Test ---\")\n",
    "movie_title_to_test = 'The Dark Knight Rises'\n",
    "recommendations = get_recommendations(movie_title_to_test)\n",
    "\n",
    "print(f\"\\nRecommendations for '{movie_title_to_test}':\")\n",
    "print(recommendations)\n",
    "\n",
    "print(\"\\n--- Recommendation Test 2 ---\")\n",
    "movie_title_to_test = 'Avatar'\n",
    "recommendations = get_recommendations(movie_title_to_test)\n",
    "\n",
    "print(f\"\\nRecommendations for '{movie_title_to_test}':\")\n",
    "print(recommendations)\n",
    "\n",
    "print(\"\\n\\nMovie Recommendation System is ready.\")"
   ]
  },
  {
   "cell_type": "code",
   "execution_count": 13,
   "id": "4f30369c-f491-4a0d-b4c3-af7fbaf31e05",
   "metadata": {},
   "outputs": [
    {
     "data": {
      "text/plain": [
       "539                      Titan A.E.\n",
       "1214    Aliens vs Predator: Requiem\n",
       "2405                         Aliens\n",
       "582             Battle: Los Angeles\n",
       "507                Independence Day\n",
       "1202                      Predators\n",
       "1916                      Lifeforce\n",
       "260                    Ender's Game\n",
       "1192                 Small Soldiers\n",
       "74                 Edge of Tomorrow\n",
       "Name: title, dtype: object"
      ]
     },
     "execution_count": 13,
     "metadata": {},
     "output_type": "execute_result"
    }
   ],
   "source": [
    "get_recommendations(movie_title_to_test)"
   ]
  },
  {
   "cell_type": "code",
   "execution_count": 15,
   "id": "ee825a97-18d0-481e-ba68-2411b6cabaf0",
   "metadata": {},
   "outputs": [
    {
     "name": "stdout",
     "output_type": "stream",
     "text": [
      "4407                The Helix... Loaded\n",
      "1268                             Duplex\n",
      "1570                             Looper\n",
      "1717                            Timecop\n",
      "2817    Star Trek II: The Wrath of Khan\n",
      "1788                         Flatliners\n",
      "3977                   Chicago Overcoat\n",
      "2209                          12 Rounds\n",
      "370                    Now You See Me 2\n",
      "2158                         Nancy Drew\n",
      "Name: title, dtype: object\n"
     ]
    }
   ],
   "source": [
    "# Call the function with a new movie title\n",
    "recommendations = get_recommendations('Inception')\n",
    "\n",
    "# Print the results\n",
    "print(recommendations)"
   ]
  },
  {
   "cell_type": "code",
   "execution_count": 17,
   "id": "9fe4faa4-5be1-4252-9ce7-e47dc5b64ab7",
   "metadata": {},
   "outputs": [
    {
     "name": "stdout",
     "output_type": "stream",
     "text": [
      "4407                The Helix... Loaded\n",
      "1268                             Duplex\n",
      "1570                             Looper\n",
      "1717                            Timecop\n",
      "2817    Star Trek II: The Wrath of Khan\n",
      "1788                         Flatliners\n",
      "3977                   Chicago Overcoat\n",
      "2209                          12 Rounds\n",
      "370                    Now You See Me 2\n",
      "2158                         Nancy Drew\n",
      "Name: title, dtype: object\n"
     ]
    }
   ],
   "source": [
    "print (recommendations)"
   ]
  },
  {
   "cell_type": "code",
   "execution_count": 19,
   "id": "71224922-fa94-4ec9-ab4e-55f3a4ec4f01",
   "metadata": {},
   "outputs": [
    {
     "data": {
      "text/plain": [
       "7                  Avengers: Age of Ultron\n",
       "26              Captain America: Civil War\n",
       "169     Captain America: The First Avenger\n",
       "31                              Iron Man 3\n",
       "85     Captain America: The Winter Soldier\n",
       "68                                Iron Man\n",
       "79                              Iron Man 2\n",
       "511                                  X-Men\n",
       "182                                Ant-Man\n",
       "64                       X-Men: Apocalypse\n",
       "Name: title, dtype: object"
      ]
     },
     "execution_count": 19,
     "metadata": {},
     "output_type": "execute_result"
    }
   ],
   "source": [
    "get_recommendations('The Avengers')"
   ]
  },
  {
   "cell_type": "code",
   "execution_count": null,
   "id": "f2289716-2075-42d8-adb1-b210d58b59f1",
   "metadata": {},
   "outputs": [],
   "source": []
  }
 ],
 "metadata": {
  "kernelspec": {
   "display_name": "Python 3 (ipykernel)",
   "language": "python",
   "name": "python3"
  },
  "language_info": {
   "codemirror_mode": {
    "name": "ipython",
    "version": 3
   },
   "file_extension": ".py",
   "mimetype": "text/x-python",
   "name": "python",
   "nbconvert_exporter": "python",
   "pygments_lexer": "ipython3",
   "version": "3.12.4"
  }
 },
 "nbformat": 4,
 "nbformat_minor": 5
}
